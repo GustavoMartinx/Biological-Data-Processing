{
 "cells": [
  {
   "cell_type": "markdown",
   "metadata": {},
   "source": [
    "# Transformação do dataset\n",
    "\n",
    "Neste _notebook_ é realizada a trasnformação do _dataset_ EEG de `.txt` para um arquivo `.npy` (_numpy array_)."
   ]
  },
  {
   "cell_type": "code",
   "execution_count": 1,
   "metadata": {},
   "outputs": [],
   "source": [
    "import numpy as np"
   ]
  },
  {
   "cell_type": "code",
   "execution_count": null,
   "metadata": {},
   "outputs": [],
   "source": [
    "file1 = '../dataset/OpenBCI-RAW-2023-10-04_17-12-22.txt'\n",
    "file2 = '../dataset/OpenBCI-RAW-2023-10-25_17-43-36.txt'\n",
    "file3 = '../dataset/OpenBCI-RAW-2023-11-14_17-25-16.txt'\n",
    "\n",
    "data1 = np.loadtxt(file1, dtype=float, delimiter=',', skiprows=5, usecols=range(1, 9))\n",
    "data2 = np.loadtxt(file2, dtype=float, delimiter=',', skiprows=5, usecols=range(1, 9))\n",
    "data3 = np.loadtxt(file3, dtype=float, delimiter=',', skiprows=5, usecols=range(1, 9))\n",
    "\n",
    "# data1: 500 pois são 2 segundos iniciais jogados fora (2x250)\n",
    "# data2: o início foi cortado, bem como o fim (por isso os -1750)\n",
    "# data3: corte dos 2 segundos iniciais também\n",
    "\n",
    "data_final = np.concatenate((data1[500:,:], data2[500:-1750,:], data3[500:,:]), axis=0)"
   ]
  }
 ],
 "metadata": {
  "kernelspec": {
   "display_name": "Python 3",
   "language": "python",
   "name": "python3"
  },
  "language_info": {
   "codemirror_mode": {
    "name": "ipython",
    "version": 3
   },
   "file_extension": ".py",
   "mimetype": "text/x-python",
   "name": "python",
   "nbconvert_exporter": "python",
   "pygments_lexer": "ipython3",
   "version": "3.10.12"
  }
 },
 "nbformat": 4,
 "nbformat_minor": 2
}
