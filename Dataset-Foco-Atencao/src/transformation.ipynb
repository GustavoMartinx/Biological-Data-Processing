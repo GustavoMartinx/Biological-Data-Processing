{
 "cells": [
  {
   "cell_type": "markdown",
   "metadata": {},
   "source": [
    "# Transformação do dataset\n",
    "\n",
    "Neste _notebook_ é realizada a trasnformação do _dataset_ EEG de `.txt` para um arquivo `.npy` (_numpy array_)."
   ]
  },
  {
   "cell_type": "code",
   "execution_count": 6,
   "metadata": {},
   "outputs": [],
   "source": [
    "import os\n",
    "import numpy as np"
   ]
  },
  {
   "cell_type": "markdown",
   "metadata": {},
   "source": [
    "### Métodos para filtragem dos dados\n",
    "\n",
    "Na seguite célula são definidas algumas funções para automatizar a remoção dos trechos ruidosos dos dados"
   ]
  },
  {
   "cell_type": "code",
   "execution_count": 17,
   "metadata": {},
   "outputs": [],
   "source": [
    "# Remove ranges of time from the data_array, where times_ranges is a list of tuples (tuples contains the range start-end)\n",
    "def remove_times_ranges(data_array: list[float], times_ranges):\n",
    "    cleaned_data_array = data_array.copy()\n",
    "    previous_end = 0\n",
    "    \n",
    "    for start, end in times_ranges:\n",
    "        previous_end_index = previous_end * 250\n",
    "        start_index = start * 250\n",
    "\n",
    "        if start_index == 0 and previous_end_index == 0:\n",
    "            previous_end = end\n",
    "            continue\n",
    "\n",
    "        cleaned_data_array = np.concatenate((cleaned_data_array, data_array[previous_end_index:start_index]))\n",
    "        previous_end = end\n",
    "    return data_array\n",
    "\n",
    "# Transform a string that represents a time value (\"min:sec\") into number and converts it to seconds\n",
    "def convert_minutes_to_seconds(time):\n",
    "    minutes, seconds = map(int, time.split(\":\"))\n",
    "    return minutes * 60 + seconds\n",
    "\n",
    "# Creates a list of tuples witch contains start and end times (in sec) that will be removed\n",
    "def create_tuples_of_times_range_in_seconds(times_minutes):\n",
    "    times_ranges_in_seconds = []\n",
    "    for start, end in times_minutes:\n",
    "        start_seconds = convert_minutes_to_seconds(start)\n",
    "        end_seconds = convert_minutes_to_seconds(end)\n",
    "        times_ranges_in_seconds.append((start_seconds, end_seconds))\n",
    "    return times_ranges_in_seconds"
   ]
  },
  {
   "cell_type": "markdown",
   "metadata": {},
   "source": [
    "### Análise e filtragem dos dados\n",
    "\n",
    "Nesta célula são definidos os trechos dos dados a serem removidos de cada arquivo e são removidos efetivamente através das funções definidas acima."
   ]
  },
  {
   "cell_type": "code",
   "execution_count": 18,
   "metadata": {},
   "outputs": [],
   "source": [
    "directory = '../dataset-s6/'\n",
    "\n",
    "# Get list of files in directory\n",
    "files = os.listdir(directory)\n",
    "\n",
    "# Filter files that are txt and start with 'OpenBCI...'\n",
    "dataset_files = [file for file in files if file.endswith('.txt') and file.startswith('OpenBCI')]\n",
    "\n",
    "# Load data from each file into an array\n",
    "data_array = []\n",
    "for file in dataset_files:\n",
    "    file_path = os.path.join(directory, file)\n",
    "    data = np.loadtxt(file_path, dtype=float, delimiter=',', skiprows=5, usecols=range(1, 9))\n",
    "    data_array.append(data)\n",
    "\n",
    "\n",
    "# Realizando os cortes de dados ruidosos\n",
    "\n",
    "# File 1 - 90 MB # data_array[i]\n",
    "FILE_1_90MB = 0\n",
    "times_ranges_in_minutes = [\n",
    "    (\"0:00\", \"0:03\"),\n",
    "    (\"0:07\", \"0:10\"),\n",
    "    (\"2:50\", \"2:53\"),\n",
    "    (\"4:14\", \"4:16\"),\n",
    "    (\"4:35\", \"4:38\"),\n",
    "    (\"8:01\", \"8:03\"),\n",
    "    (\"9:33\", \"9:36\"),\n",
    "    (\"15:54\", \"15:56\"),\n",
    "    (\"16:59\", \"17:01\"),\n",
    "    (\"19:19\", \"19:22\"),\n",
    "    (\"19:39\", \"19:49\")\n",
    "]\n",
    "\n",
    "times_ranges_in_seconds = []\n",
    "times_ranges_in_seconds = create_tuples_of_times_range_in_seconds(times_ranges_in_minutes)\n",
    "\n",
    "data_array_filtered = []\n",
    "data_array_filtered = remove_times_ranges(data_array[FILE_1_90MB], times_ranges_in_seconds)\n",
    "np.save('../dataset-s6/data.npy', data_array_filtered)\n",
    "\n",
    "\n",
    "# File 2 - 14,5 MB\n",
    "# FILE_2_14MB = 1\n",
    "# times_ranges_in_minutes = [\n",
    "#     (\"0:00\", \"0:08\"),\n",
    "#     (\"0:58\", \"1:07\"),\n",
    "#     (\"2:59\", \"3:08\")\n",
    "# ]\n",
    "\n",
    "\n",
    "# File 3 - 36,4 MB\n",
    "# FILE_3_36MB = 2\n",
    "# times_ranges_in_minutes = [\n",
    "#     (\"0:00\", \"0:08\"),\n",
    "#     (\"1:58\", \"2:02\"),\n",
    "#     (\"7:37\", \"7:39\")\n",
    "# ]\n",
    "\n",
    "\n",
    "\n",
    "\n",
    "\n",
    "# TODO: concatenar todos os arquivos .txt do dataset em um único .npy array\n",
    "# data_final = np.concatenate((data1[500:,:], data2[500:-1750,:], data3[500:,:]), axis=0)\n",
    "\n",
    "# np.save('../dataset-s6/data.npy', data_final)"
   ]
  },
  {
   "cell_type": "code",
   "execution_count": null,
   "metadata": {},
   "outputs": [],
   "source": []
  }
 ],
 "metadata": {
  "kernelspec": {
   "display_name": "Python 3",
   "language": "python",
   "name": "python3"
  },
  "language_info": {
   "codemirror_mode": {
    "name": "ipython",
    "version": 3
   },
   "file_extension": ".py",
   "mimetype": "text/x-python",
   "name": "python",
   "nbconvert_exporter": "python",
   "pygments_lexer": "ipython3",
   "version": "3.10.12"
  }
 },
 "nbformat": 4,
 "nbformat_minor": 2
}
