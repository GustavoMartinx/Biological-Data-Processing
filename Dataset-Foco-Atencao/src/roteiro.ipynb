{
 "cells": [
  {
   "cell_type": "markdown",
   "metadata": {},
   "source": [
    "# Roteiro de trabalho\n",
    "\n",
    "### Tempos dos vídeos\n",
    "- (IT) Insulina Tradicional (15:00) $\\rightarrow$ 900 segundos\n",
    "- (GT) Glucagon Tradicional (14:57) $\\rightarrow$ 897 segundos\n",
    "- (IA) Insulina Ativa (19:26) $\\rightarrow$ 1166 segundos\n",
    "- (GA) Glucagon Ativa (20:43) $\\rightarrow$ 1243 segundos\n",
    "\n",
    "### Participante deste roteiro:\n",
    "- Nathalia: IA e GT"
   ]
  },
  {
   "cell_type": "code",
   "execution_count": 1,
   "metadata": {},
   "outputs": [],
   "source": [
    "import sys\n",
    "import mne\n",
    "import numpy as np\n",
    "from scipy.signal import welch\n",
    "import matplotlib.pyplot as plt\n",
    "from matplotlib import rcParams"
   ]
  },
  {
   "cell_type": "markdown",
   "metadata": {},
   "source": [
    "#### Definição do objeto MNE info"
   ]
  },
  {
   "cell_type": "code",
   "execution_count": 2,
   "metadata": {},
   "outputs": [
    {
     "data": {
      "text/html": [
       "<details open>\n",
       "    <summary><strong>General</strong></summary>\n",
       "    <table class=\"table table-hover table-striped table-sm table-responsive small\">\n",
       "        <tr>\n",
       "            <th>Measurement date</th>\n",
       "            \n",
       "            <td>Unknown</td>\n",
       "            \n",
       "        </tr>\n",
       "        <tr>\n",
       "            <th>Experimenter</th>\n",
       "            \n",
       "            <td>Unknown</td>\n",
       "            \n",
       "        </tr>\n",
       "        <tr>\n",
       "            <th>Participant</th>\n",
       "            \n",
       "            <td>Unknown</td>\n",
       "            \n",
       "        </tr>\n",
       "    </table>\n",
       "    </details>\n",
       "    <details open>\n",
       "        <summary><strong>Channels</strong></summary>\n",
       "        <table class=\"table table-hover table-striped table-sm table-responsive small\">\n",
       "            <tr>\n",
       "                <th>Digitized points</th>\n",
       "                \n",
       "                <td>11 points</td>\n",
       "                \n",
       "            </tr>\n",
       "            <tr>\n",
       "                <th>Good channels</th>\n",
       "                <td>8 EEG</td>\n",
       "            </tr>\n",
       "            <tr>\n",
       "                <th>Bad channels</th>\n",
       "                <td>None</td>\n",
       "            </tr>\n",
       "            <tr>\n",
       "                <th>EOG channels</th>\n",
       "                <td>Not available</td>\n",
       "            </tr>\n",
       "            <tr>\n",
       "                <th>ECG channels</th>\n",
       "                <td>Not available</td>\n",
       "            </tr>\n",
       "        </table>\n",
       "        </details>\n",
       "        <details open>\n",
       "            <summary><strong>Data</strong></summary>\n",
       "            <table class=\"table table-hover table-striped table-sm table-responsive small\">\n",
       "                \n",
       "                <tr>\n",
       "                    <th>Sampling frequency</th>\n",
       "                    <td>250.00 Hz</td>\n",
       "                </tr>\n",
       "                \n",
       "                \n",
       "                <tr>\n",
       "                    <th>Highpass</th>\n",
       "                    <td>0.00 Hz</td>\n",
       "                </tr>\n",
       "                \n",
       "                \n",
       "                <tr>\n",
       "                    <th>Lowpass</th>\n",
       "                    <td>125.00 Hz</td>\n",
       "                </tr>\n",
       "                \n",
       "                \n",
       "                \n",
       "                \n",
       "            </table>\n",
       "            </details>"
      ],
      "text/plain": [
       "<Info | 8 non-empty values\n",
       " bads: []\n",
       " ch_names: F3, Fz, F4, C3, Cz, C4, P3, P4\n",
       " chs: 8 EEG\n",
       " custom_ref_applied: False\n",
       " dig: 11 items (3 Cardinal, 8 EEG)\n",
       " highpass: 0.0 Hz\n",
       " lowpass: 125.0 Hz\n",
       " meas_date: unspecified\n",
       " nchan: 8\n",
       " projs: []\n",
       " sfreq: 250.0 Hz\n",
       ">"
      ]
     },
     "execution_count": 2,
     "metadata": {},
     "output_type": "execute_result"
    }
   ],
   "source": [
    "n_channels = 8\n",
    "ch_types = ['eeg'] * n_channels\n",
    "sfreq = 250\n",
    "ch_names = [\"F3\", \"Fz\", \"F4\", \"C3\", \"Cz\", \"C4\", \"P3\", \"P4\"]\n",
    "info = mne.create_info(ch_names=ch_names, sfreq=sfreq, ch_types=ch_types)\n",
    "info.set_montage(\"standard_1020\")"
   ]
  },
  {
   "cell_type": "markdown",
   "metadata": {},
   "source": [
    "#### Carregamento dos dados e transformação para objeto MNE RawArray"
   ]
  },
  {
   "cell_type": "code",
   "execution_count": 3,
   "metadata": {},
   "outputs": [
    {
     "name": "stdout",
     "output_type": "stream",
     "text": [
      "Creating RawArray with float64 data, n_channels=8, n_times=225250\n",
      "    Range : 0 ... 225249 =      0.000 ...   900.996 secs\n",
      "Ready.\n",
      "Creating RawArray with float64 data, n_channels=8, n_times=39000\n",
      "    Range : 0 ... 38999 =      0.000 ...   155.996 secs\n",
      "Ready.\n"
     ]
    }
   ],
   "source": [
    "# Essa minutagem é sobre GT ou IA? qual(is) arquivo(s)? concateno os arquivos?\n",
    "# Assumindo que seja sobre aula de GT\n",
    "# inicio: 30s\n",
    "# Iniciou teste: 15:32\n",
    "# Final: 18:08\n",
    "\n",
    "# Aula GT: 7500 até 232750 [225250 segundos]\n",
    "# Mini Teste GT: 233000 até 272000 [39000 segundos]\n",
    "gt = '../dataset-s6/OpenBCI-RAW-2023-10-10_14-23-56.txt'\n",
    "gt_ob = np.loadtxt(gt, delimiter=',', skiprows=5, usecols=range(1, 9))\n",
    "\n",
    "# Removendo trechos inúteis (pré-início e pós-fim)\n",
    "data_gt = gt_ob[7500:232750, :]\n",
    "data_gt_test = gt_ob[233000:272000, :]\n",
    "\n",
    "X = {\n",
    "    'gt': mne.io.RawArray(data_gt.T, info),\n",
    "    'gt_test': mne.io.RawArray(data_gt_test.T, info),\n",
    "}"
   ]
  },
  {
   "cell_type": "markdown",
   "metadata": {},
   "source": [
    "#### Filtragem dos dados\n",
    "\n",
    "Primeiramente, atenua-se a frequência de 60Hz evitando a interferência da rede elétrica e, posteriormente, obtem-se a faixa de frequência desejada de 4 a 100Hz."
   ]
  },
  {
   "cell_type": "code",
   "execution_count": 1,
   "metadata": {},
   "outputs": [
    {
     "ename": "NameError",
     "evalue": "name 'X' is not defined",
     "output_type": "error",
     "traceback": [
      "\u001b[0;31m---------------------------------------------------------------------------\u001b[0m",
      "\u001b[0;31mNameError\u001b[0m                                 Traceback (most recent call last)",
      "Cell \u001b[0;32mIn[1], line 1\u001b[0m\n\u001b[0;32m----> 1\u001b[0m \u001b[38;5;28;01mfor\u001b[39;00m key \u001b[38;5;129;01min\u001b[39;00m \u001b[43mX\u001b[49m:\n\u001b[1;32m      2\u001b[0m     X[key]\u001b[38;5;241m.\u001b[39mnotch_filter(freqs\u001b[38;5;241m=\u001b[39m\u001b[38;5;241m60\u001b[39m)\n\u001b[1;32m      3\u001b[0m     X[key]\u001b[38;5;241m.\u001b[39mfilter(l_freq\u001b[38;5;241m=\u001b[39m\u001b[38;5;241m4\u001b[39m, h_freq\u001b[38;5;241m=\u001b[39m\u001b[38;5;241m100\u001b[39m)\n",
      "\u001b[0;31mNameError\u001b[0m: name 'X' is not defined"
     ]
    }
   ],
   "source": [
    "for key in X:\n",
    "    X[key].notch_filter(freqs=60)\n",
    "    X[key].filter(l_freq=4, h_freq=100)"
   ]
  },
  {
   "cell_type": "markdown",
   "metadata": {},
   "source": [
    "#### Janela Deslizante\n",
    "\n",
    "O trecho a seguir determina a porcentagem do tempo em que cada banda de frequência é dominante ao longo de uma janela de tempo específica."
   ]
  },
  {
   "cell_type": "code",
   "execution_count": 5,
   "metadata": {},
   "outputs": [
    {
     "name": "stdout",
     "output_type": "stream",
     "text": [
      "<RawArray | 8 x 225250 (901.0 s), ~13.8 MB, data loaded>\n",
      "[96.45, 0.0, 0.22, 3.33]\n",
      "<RawArray | 8 x 39000 (156.0 s), ~2.4 MB, data loaded>\n",
      "[94.23, 0.0, 0.0, 5.77]\n"
     ]
    }
   ],
   "source": [
    "sr = 250            # Taxa de amostragem dos dados do EEG (250Hz)\n",
    "jump = 5            # Tamanho da janela de análise (5 em 5 segundos)\n",
    "size = sr * jump    # Número de pontos de dados em cada janela de análise\n",
    "\n",
    "# Definindo os limites das bandas de frequência (em Hz)\n",
    "theta_band = (4, 8)       # Theta: 4 - 8 Hz\n",
    "alpha_band = (8, 13)      # Alpha: 8 - 13 Hz\n",
    "beta_band = (13, 30)      # Beta: 13 - 30 Hz\n",
    "gamma_band = (30, 100)    # Gamma: 30 - 100 Hz\n",
    "\n",
    "\n",
    "total_pc = {}\n",
    "data_names = ('gt', 'gt_test')\n",
    "\n",
    "# X contém os dois conjuntos de dados de EEG para análise (X['gt'] e X['gt_test'])\n",
    "for k, data in enumerate(X.values()):\n",
    "    results = [0, 0, 0, 0] # Contagem de dominância de cada banda\n",
    "    \n",
    "    # Percorre os dados em incrementos de sr (1 segundo) extraindo janelas de tamanho size (5s)\n",
    "    for i in range(0, len(data)-1, sr):\n",
    "        cut = data.get_data(start=i, stop=i+size)\n",
    "\n",
    "        # Aplicando o filtro CAR\n",
    "        mean_reference = np.mean(cut, axis=0)  # Calculando a média comum de referência\n",
    "        car_filtered_data = cut - mean_reference  # Subtraindo a média de cada canal\n",
    "\n",
    "        # Número de pontos por segmento\n",
    "        nperseg = 128\n",
    "        # Quantidade de sobreposição entre segmentos\n",
    "        noverlap = nperseg // 2 # 64\n",
    "        \n",
    "        freqs, psd = welch(car_filtered_data, fs=sr, nperseg=nperseg, noverlap=noverlap)\n",
    "        \n",
    "        # realizando a média dos 8 eletrodos\n",
    "        # set_eeg_reference (MNE)\n",
    "        X = np.average(psd, axis=0)\n",
    "\n",
    "        # Encontrar os índices correspondentes às frequências de interesse\n",
    "        theta_idxs = np.where((freqs >= theta_band[0]) & (freqs <= theta_band[1]))[0]\n",
    "        alpha_idxs = np.where((freqs >= alpha_band[0]) & (freqs <= alpha_band[1]))[0]\n",
    "        beta_idxs = np.where((freqs >= beta_band[0]) & (freqs <= beta_band[1]))[0]\n",
    "        gamma_idxs = np.where((freqs >= gamma_band[0]) & (freqs <= gamma_band[1]))[0]\n",
    "\n",
    "        # Calculando a potência em cada banda de frequência por meio da integração da PSD\n",
    "        bands = [np.sum(X[theta_idxs]), np.sum(X[alpha_idxs]), np.sum(X[beta_idxs]), np.sum(X[gamma_idxs])]\n",
    "        # Calculando a pontuação de cada banda para mostrar a porcentagem futura\n",
    "        results[np.argmax(bands)] += 1\n",
    "\n",
    "    total = sum(results)\n",
    "    percentages = [round((count/total) * 100, 2) for count in results]\n",
    "    print(data.__str__())\n",
    "    total_pc[data_names[k]] = percentages\n",
    "\n",
    "print(total_pc)"
   ]
  },
  {
   "cell_type": "markdown",
   "metadata": {},
   "source": [
    "Mostrando os gráficos de barra dos resultados."
   ]
  },
  {
   "cell_type": "code",
   "execution_count": 7,
   "metadata": {},
   "outputs": [],
   "source": [
    "rcParams['figure.figsize'] = [6., 4.]\n",
    "\n",
    "def plot_bar(x):\n",
    "    colors = ('orange', 'green', 'blue', 'purple')\n",
    "    bars = plt.bar(('theta', 'alpha', 'beta', 'gamma'), x, color=colors)\n",
    "    for bar in bars:\n",
    "        yval = bar.get_height()\n",
    "        plt.text(bar.get_x() + bar.get_width()/2, yval, round(yval, 2), ha='center', va='bottom')\n",
    "    plt.title('Porcentagem da potência em cada banda de frequência')\n",
    "    plt.xlabel('Banda de Frequência')\n",
    "    plt.ylabel('Porcentagem durante a atividade')\n",
    "    plt.show()\n"
   ]
  },
  {
   "cell_type": "markdown",
   "metadata": {},
   "source": [
    "Aplicando os valores de porcentagens obtidos na função de gráfico"
   ]
  },
  {
   "cell_type": "code",
   "execution_count": null,
   "metadata": {},
   "outputs": [],
   "source": [
    "print('Glucagon Tradicional')\n",
    "plot_bar(total_pc['gt'])\n",
    "print('Glucagon Tradicional - Teste')\n",
    "plot_bar(total_pc['gt_test'])"
   ]
  },
  {
   "cell_type": "markdown",
   "metadata": {},
   "source": [
    "#### Tarefa 1 - Aplicando um Filtro Espacial nos Dados:\n",
    "\n",
    "Realizando a média dos 8 eletrodos, analizar os canais separadamente. Para isso, vamos aplicar o filtro espacial, no qual   podemos utilizar algoritmos específicos para a análise de EEG utilizando o CAR (Common Average Reference). Na biblioteca MNE existe o método `set_eeg_reference`, que pode ser utilizado para aplicar o filtro espacial.\n",
    "\n",
    "Para aplicar o `set_eeg_reference`, é necessário que os dados estejam no objeto `RawArray`, que é o objeto que contém o método.\n",
    "\n",
    "O slice deve ser obtido diretamente do objeto MNE, tendo que nesse caso modificar todo o laço de controle.\n",
    "\n",
    "`cut = data.get_data(start=i, stop=i+size)`"
   ]
  },
  {
   "cell_type": "markdown",
   "metadata": {},
   "source": [
    "#### Tarefa 2 - Análise de Recorte Específico\n",
    "\n",
    "Observar por meio dos códigos, os 3 principais rítmos de interesse (Theta, Beta e Gama), com tempos mais específicos do experimento. Ou seja, até o momento, observamos as porcentagens olhando para todo experimento. Então mesmo obtendo um valor de Beta às vezes baixo, em algum momento considerável da aula assistida, ele pode estar alto. Faça uma análise mais detalhada desses momentos.\n",
    "\n",
    "Para tal, descobra os segmentos de interesse através da analise dos dados diretamente no software OpenBCI GUI. Posteriormente, pegue as mesmas faixas de tempo, e realize os recortes no código em python para constar a prova de conceito.\n",
    "\n",
    "Mostre também gráficos no domínio da frequência e/ou espectrograma."
   ]
  }
 ],
 "metadata": {
  "kernelspec": {
   "display_name": "venv",
   "language": "python",
   "name": "python3"
  },
  "language_info": {
   "codemirror_mode": {
    "name": "ipython",
    "version": 3
   },
   "file_extension": ".py",
   "mimetype": "text/x-python",
   "name": "python",
   "nbconvert_exporter": "python",
   "pygments_lexer": "ipython3",
   "version": "3.10.12"
  }
 },
 "nbformat": 4,
 "nbformat_minor": 2
}
