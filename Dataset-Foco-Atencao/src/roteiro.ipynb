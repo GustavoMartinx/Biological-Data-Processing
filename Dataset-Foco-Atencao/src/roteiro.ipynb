{
 "cells": [
  {
   "cell_type": "markdown",
   "metadata": {},
   "source": [
    "# Roteiro de trabalho\n",
    "\n",
    "### Tempos dos vídeos\n",
    "- (IT) Insulina Tradicional (15:00) $\\rightarrow$ 900 segundos\n",
    "- (GT) Glucagon Tradicional (14:57) $\\rightarrow$ 897 segundos\n",
    "- (IA) Insulina Ativa (19:26) $\\rightarrow$ 1166 segundos\n",
    "- (GA) Glucagon Ativa (20:43) $\\rightarrow$ 1243 segundos\n",
    "\n",
    "### Participante deste roteiro:\n",
    "- Daniella: IT e GA\n",
    "- Nathalia: IA e GT"
   ]
  },
  {
   "cell_type": "code",
   "execution_count": 3,
   "metadata": {},
   "outputs": [],
   "source": [
    "# imports de bibliotecas\n",
    "\n",
    "import sys\n",
    "import mne\n",
    "import numpy as np\n",
    "from scipy.signal import welch\n",
    "import matplotlib.pyplot as plt"
   ]
  },
  {
   "cell_type": "code",
   "execution_count": 4,
   "metadata": {},
   "outputs": [
    {
     "data": {
      "text/html": [
       "<details open>\n",
       "    <summary><strong>General</strong></summary>\n",
       "    <table class=\"table table-hover table-striped table-sm table-responsive small\">\n",
       "        <tr>\n",
       "            <th>Measurement date</th>\n",
       "            \n",
       "            <td>Unknown</td>\n",
       "            \n",
       "        </tr>\n",
       "        <tr>\n",
       "            <th>Experimenter</th>\n",
       "            \n",
       "            <td>Unknown</td>\n",
       "            \n",
       "        </tr>\n",
       "        <tr>\n",
       "            <th>Participant</th>\n",
       "            \n",
       "            <td>Unknown</td>\n",
       "            \n",
       "        </tr>\n",
       "    </table>\n",
       "    </details>\n",
       "    <details open>\n",
       "        <summary><strong>Channels</strong></summary>\n",
       "        <table class=\"table table-hover table-striped table-sm table-responsive small\">\n",
       "            <tr>\n",
       "                <th>Digitized points</th>\n",
       "                \n",
       "                <td>11 points</td>\n",
       "                \n",
       "            </tr>\n",
       "            <tr>\n",
       "                <th>Good channels</th>\n",
       "                <td>8 EEG</td>\n",
       "            </tr>\n",
       "            <tr>\n",
       "                <th>Bad channels</th>\n",
       "                <td>None</td>\n",
       "            </tr>\n",
       "            <tr>\n",
       "                <th>EOG channels</th>\n",
       "                <td>Not available</td>\n",
       "            </tr>\n",
       "            <tr>\n",
       "                <th>ECG channels</th>\n",
       "                <td>Not available</td>\n",
       "            </tr>\n",
       "        </table>\n",
       "        </details>\n",
       "        <details open>\n",
       "            <summary><strong>Data</strong></summary>\n",
       "            <table class=\"table table-hover table-striped table-sm table-responsive small\">\n",
       "                \n",
       "                <tr>\n",
       "                    <th>Sampling frequency</th>\n",
       "                    <td>250.00 Hz</td>\n",
       "                </tr>\n",
       "                \n",
       "                \n",
       "                <tr>\n",
       "                    <th>Highpass</th>\n",
       "                    <td>0.00 Hz</td>\n",
       "                </tr>\n",
       "                \n",
       "                \n",
       "                <tr>\n",
       "                    <th>Lowpass</th>\n",
       "                    <td>125.00 Hz</td>\n",
       "                </tr>\n",
       "                \n",
       "                \n",
       "                \n",
       "                \n",
       "            </table>\n",
       "            </details>"
      ],
      "text/plain": [
       "<Info | 8 non-empty values\n",
       " bads: []\n",
       " ch_names: F3, Fz, F4, C3, Cz, C4, P3, P4\n",
       " chs: 8 EEG\n",
       " custom_ref_applied: False\n",
       " dig: 11 items (3 Cardinal, 8 EEG)\n",
       " highpass: 0.0 Hz\n",
       " lowpass: 125.0 Hz\n",
       " meas_date: unspecified\n",
       " nchan: 8\n",
       " projs: []\n",
       " sfreq: 250.0 Hz\n",
       ">"
      ]
     },
     "execution_count": 4,
     "metadata": {},
     "output_type": "execute_result"
    }
   ],
   "source": [
    "# definição do info (MNE)\n",
    "\n",
    "n_channels = 8\n",
    "ch_types = ['eeg'] * n_channels\n",
    "sfreq = 250\n",
    "ch_names = [\"F3\", \"Fz\", \"F4\", \"C3\", \"Cz\", \"C4\", \"P3\", \"P4\"]\n",
    "info = mne.create_info(ch_names=ch_names, sfreq=sfreq, ch_types=ch_types)\n",
    "info.set_montage(\"standard_1020\")"
   ]
  },
  {
   "cell_type": "code",
   "execution_count": 5,
   "metadata": {},
   "outputs": [
    {
     "name": "stdout",
     "output_type": "stream",
     "text": [
      "Creating RawArray with float64 data, n_channels=8, n_times=225250\n",
      "    Range : 0 ... 225249 =      0.000 ...   900.996 secs\n",
      "Ready.\n",
      "Creating RawArray with float64 data, n_channels=8, n_times=39000\n",
      "    Range : 0 ... 38999 =      0.000 ...   155.996 secs\n",
      "Ready.\n"
     ]
    }
   ],
   "source": [
    "# Essa minutagem é sobre GT ou IA? qual(is) arquivo(s)? concateno os arquivos?\n",
    "# Assumindo que seja sobre aula de GT\n",
    "# inicio: 30s\n",
    "# Iniciou teste: 15:32\n",
    "# Final: 18:08\n",
    "\n",
    "# Aula GT: 7500 até 232750 [225250 segundos]\n",
    "# Mini Teste GT: 233000 até 272000 [39000 segundos]\n",
    "gt = '../dataset-s6/OpenBCI-RAW-2023-10-10_14-23-56.txt'\n",
    "gt_ob = np.loadtxt(gt, delimiter=',', skiprows=5, usecols=range(1, 9))\n",
    "\n",
    "# Removendo trechos inúteis (pré-início e pós-fim)\n",
    "data_gt = gt_ob[7500:232750, :]\n",
    "data_gt_test = gt_ob[233000:272000, :]\n",
    "\n",
    "X = {\n",
    "    'gt': mne.io.RawArray(data_gt.T, info),\n",
    "    'gt_test': mne.io.RawArray(data_gt_test.T, info),\n",
    "}"
   ]
  },
  {
   "cell_type": "code",
   "execution_count": 6,
   "metadata": {},
   "outputs": [
    {
     "name": "stdout",
     "output_type": "stream",
     "text": [
      "Filtering raw data in 1 contiguous segment\n",
      "Setting up band-stop filter from 59 - 61 Hz\n",
      "\n",
      "FIR filter parameters\n",
      "---------------------\n",
      "Designing a one-pass, zero-phase, non-causal bandstop filter:\n",
      "- Windowed time-domain design (firwin) method\n",
      "- Hamming window with 0.0194 passband ripple and 53 dB stopband attenuation\n",
      "- Lower passband edge: 59.35\n",
      "- Lower transition bandwidth: 0.50 Hz (-6 dB cutoff frequency: 59.10 Hz)\n",
      "- Upper passband edge: 60.65 Hz\n",
      "- Upper transition bandwidth: 0.50 Hz (-6 dB cutoff frequency: 60.90 Hz)\n",
      "- Filter length: 1651 samples (6.604 s)\n",
      "\n"
     ]
    },
    {
     "name": "stdout",
     "output_type": "stream",
     "text": [
      "Filtering raw data in 1 contiguous segment\n",
      "Setting up band-pass filter from 4 - 1e+02 Hz\n",
      "\n",
      "FIR filter parameters\n",
      "---------------------\n",
      "Designing a one-pass, zero-phase, non-causal bandpass filter:\n",
      "- Windowed time-domain design (firwin) method\n",
      "- Hamming window with 0.0194 passband ripple and 53 dB stopband attenuation\n",
      "- Lower passband edge: 4.00\n",
      "- Lower transition bandwidth: 2.00 Hz (-6 dB cutoff frequency: 3.00 Hz)\n",
      "- Upper passband edge: 100.00 Hz\n",
      "- Upper transition bandwidth: 25.00 Hz (-6 dB cutoff frequency: 112.50 Hz)\n",
      "- Filter length: 413 samples (1.652 s)\n",
      "\n",
      "Filtering raw data in 1 contiguous segment\n",
      "Setting up band-stop filter from 59 - 61 Hz\n",
      "\n",
      "FIR filter parameters\n",
      "---------------------\n",
      "Designing a one-pass, zero-phase, non-causal bandstop filter:\n",
      "- Windowed time-domain design (firwin) method\n",
      "- Hamming window with 0.0194 passband ripple and 53 dB stopband attenuation\n",
      "- Lower passband edge: 59.35\n",
      "- Lower transition bandwidth: 0.50 Hz (-6 dB cutoff frequency: 59.10 Hz)\n",
      "- Upper passband edge: 60.65 Hz\n",
      "- Upper transition bandwidth: 0.50 Hz (-6 dB cutoff frequency: 60.90 Hz)\n",
      "- Filter length: 1651 samples (6.604 s)\n",
      "\n",
      "Filtering raw data in 1 contiguous segment\n",
      "Setting up band-pass filter from 4 - 1e+02 Hz\n",
      "\n",
      "FIR filter parameters\n",
      "---------------------\n",
      "Designing a one-pass, zero-phase, non-causal bandpass filter:\n",
      "- Windowed time-domain design (firwin) method\n",
      "- Hamming window with 0.0194 passband ripple and 53 dB stopband attenuation\n",
      "- Lower passband edge: 4.00\n",
      "- Lower transition bandwidth: 2.00 Hz (-6 dB cutoff frequency: 3.00 Hz)\n",
      "- Upper passband edge: 100.00 Hz\n",
      "- Upper transition bandwidth: 25.00 Hz (-6 dB cutoff frequency: 112.50 Hz)\n",
      "- Filter length: 413 samples (1.652 s)\n",
      "\n"
     ]
    }
   ],
   "source": [
    "# filtragem de todos os dados\n",
    "\n",
    "for key in X:\n",
    "    X[key].notch_filter(freqs=60)\n",
    "    X[key].filter(l_freq=4, h_freq=100)"
   ]
  },
  {
   "cell_type": "markdown",
   "metadata": {},
   "source": [
    "Determinando a porcentagem do tempo em que cada banda de frequência é dominante ao longo de uma janela de tempo específica."
   ]
  },
  {
   "cell_type": "code",
   "execution_count": 7,
   "metadata": {},
   "outputs": [
    {
     "name": "stdout",
     "output_type": "stream",
     "text": [
      "<RawArray | 8 x 225250 (901.0 s), ~13.8 MB, data loaded>\n",
      "[96.45, 0.0, 0.22, 3.33]\n",
      "<RawArray | 8 x 39000 (156.0 s), ~2.4 MB, data loaded>\n",
      "[94.23, 0.0, 0.0, 5.77]\n"
     ]
    }
   ],
   "source": [
    "sr = 250            # Taxa de amostragem dos dados do EEG (250Hz)\n",
    "jump = 5            # Tamanho da janela de análise (5 em 5 segundos)\n",
    "size = sr * jump    # Número de pontos de dados em cada janela de análise\n",
    "\n",
    "# Definindo os limites das bandas de frequência (em Hz)\n",
    "theta_band = (4, 8)       # Theta: 4 - 8 Hz\n",
    "alpha_band = (8, 13)      # Alpha: 8 - 13 Hz\n",
    "beta_band = (13, 30)      # Beta: 13 - 30 Hz\n",
    "gamma_band = (30, 100)    # Gamma: 30 - 100 Hz\n",
    "\n",
    "# datas contém os dois conjuntos de dados de EEG para análise (X['gt'] e X['gt_test'])\n",
    "datas = [X['gt'], X['gt_test']]\n",
    "\n",
    "for data in datas:\n",
    "    results = [0, 0, 0, 0] # Contagem de dominância de cada banda\n",
    "    \n",
    "    # Percorre os dados em incrementos de sr (1 segundo) extraindo janelas de tamanho size (5s)\n",
    "    for i in range(0, len(data)-1, sr):\n",
    "        cut = data.get_data(start=i, stop=i+size)\n",
    "\n",
    "        # Aplicando o filtro CAR\n",
    "        mean_reference = np.mean(cut, axis=0)  # Calculando a média comum de referência\n",
    "        car_filtered_data = cut - mean_reference  # Subtraindo a média de cada canal\n",
    "\n",
    "        # Número de pontos por segmento\n",
    "        nperseg = 128\n",
    "        # Quantidade de sobreposição entre segmentos\n",
    "        noverlap = nperseg // 2 # 64\n",
    "        \n",
    "        freqs, psd = welch(car_filtered_data, fs=sr, nperseg=nperseg, noverlap=noverlap)\n",
    "        \n",
    "        # realizando a média dos 8 eletrodos\n",
    "        X = np.average(psd, axis=0)\n",
    "\n",
    "        # Encontrar os índices correspondentes às frequências de interesse\n",
    "        theta_idxs = np.where((freqs >= theta_band[0]) & (freqs <= theta_band[1]))[0]\n",
    "        alpha_idxs = np.where((freqs >= alpha_band[0]) & (freqs <= alpha_band[1]))[0]\n",
    "        beta_idxs = np.where((freqs >= beta_band[0]) & (freqs <= beta_band[1]))[0]\n",
    "        gamma_idxs = np.where((freqs >= gamma_band[0]) & (freqs <= gamma_band[1]))[0]\n",
    "\n",
    "        # Calcular a potência em cada banda de frequência por meio da integração da PSD\n",
    "        bands = [np.sum(X[theta_idxs]), np.sum(X[alpha_idxs]), np.sum(X[beta_idxs]), np.sum(X[gamma_idxs])]\n",
    "        # calculando a pontuação de cada banda para mostrar a porcentagem futura\n",
    "        results[np.argmax(bands)] += 1\n",
    "\n",
    "    total = sum(results)\n",
    "    percentages = [round((count/total) * 100, 2) for count in results]\n",
    "    print(data.__str__())\n",
    "    print(percentages)"
   ]
  },
  {
   "cell_type": "code",
   "execution_count": null,
   "metadata": {},
   "outputs": [],
   "source": []
  }
 ],
 "metadata": {
  "kernelspec": {
   "display_name": "venv",
   "language": "python",
   "name": "python3"
  },
  "language_info": {
   "codemirror_mode": {
    "name": "ipython",
    "version": 3
   },
   "file_extension": ".py",
   "mimetype": "text/x-python",
   "name": "python",
   "nbconvert_exporter": "python",
   "pygments_lexer": "ipython3",
   "version": "3.10.12"
  }
 },
 "nbformat": 4,
 "nbformat_minor": 2
}
