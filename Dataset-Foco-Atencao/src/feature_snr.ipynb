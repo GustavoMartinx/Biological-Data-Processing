{
 "cells": [
  {
   "cell_type": "markdown",
   "metadata": {},
   "source": [
    "# Extração da característica relação sinal-ruído (SNR) de dados de EEG\n",
    "\n",
    "A relação sinal-ruído (SNR, do inglês _Signal-to-Noise Ratio_) é uma medida que compara o nível do sinal desejado com o nível do ruído de fundo. Uma SNR mais alta indica um sinal mais forte em comparação ao ruído, enquanto uma SNR mais baixa indica que o ruído é comparativamente forte.\n",
    "\n",
    "O objetivo é utilizar um conjunto de dados com nível de atividade cerebral basal (que será considerado e utilizado como \"ruído\") e \"removê-lo\" do sinal obtido no experimento a fim de reconhecer os padrões de foco com maior clareza.\n",
    "\n",
    "No contexto da caracterização de foco, podemos, a partir do sinal basal, classificar os sinais dos ritmos cerebrais com a presença ou não de foco, de forma que as amostras de sinais extraídas de um buffer sejam rotuladas com com a presença ou não de foco.\n",
    "\n",
    "Esta análise será realizada com o auxílio do classificador SVM (_Support Vector Machine_). Nesse sentido, uma porcetagem das amostras são utilizadas para treino e outra para o teste (30 e 70% respectivamente)."
   ]
  },
  {
   "cell_type": "code",
   "execution_count": 123,
   "metadata": {},
   "outputs": [],
   "source": [
    "import mne\n",
    "import numpy as np\n",
    "from scipy.signal import welch\n",
    "import matplotlib.pyplot as plt\n",
    "from matplotlib import rcParams"
   ]
  },
  {
   "cell_type": "code",
   "execution_count": 124,
   "metadata": {},
   "outputs": [],
   "source": [
    "# Transform a string that represents a time value (\"min:sec\") into number and converts it to seconds\n",
    "def convert_min_to_sec(time):\n",
    "    minutes, seconds = map(int, time.split(\":\"))\n",
    "    return minutes * 60 + seconds\n",
    "\n",
    "# Transfor a string thats represents a range time \"0:21 - 0:40\" into index that will be used to cut data\n",
    "def convert_time_range_to_index(timerange):\n",
    "    start, end = map(str, timerange.split(\" - \"))\n",
    "    new_start = convert_min_to_sec(start)\n",
    "    new_end = convert_min_to_sec(end)\n",
    "    \n",
    "    index = []\n",
    "    index.append(new_start * 250)\n",
    "    index.append(new_end * 250)\n",
    "\n",
    "    return index"
   ]
  },
  {
   "cell_type": "code",
   "execution_count": 125,
   "metadata": {},
   "outputs": [
    {
     "data": {
      "text/html": [
       "<details open>\n",
       "    <summary><strong>General</strong></summary>\n",
       "    <table class=\"table table-hover table-striped table-sm table-responsive small\">\n",
       "        <tr>\n",
       "            <th>Measurement date</th>\n",
       "            \n",
       "            <td>Unknown</td>\n",
       "            \n",
       "        </tr>\n",
       "        <tr>\n",
       "            <th>Experimenter</th>\n",
       "            \n",
       "            <td>Unknown</td>\n",
       "            \n",
       "        </tr>\n",
       "        <tr>\n",
       "            <th>Participant</th>\n",
       "            \n",
       "            <td>Unknown</td>\n",
       "            \n",
       "        </tr>\n",
       "    </table>\n",
       "    </details>\n",
       "    <details open>\n",
       "        <summary><strong>Channels</strong></summary>\n",
       "        <table class=\"table table-hover table-striped table-sm table-responsive small\">\n",
       "            <tr>\n",
       "                <th>Digitized points</th>\n",
       "                \n",
       "                <td>11 points</td>\n",
       "                \n",
       "            </tr>\n",
       "            <tr>\n",
       "                <th>Good channels</th>\n",
       "                <td>8 EEG</td>\n",
       "            </tr>\n",
       "            <tr>\n",
       "                <th>Bad channels</th>\n",
       "                <td>None</td>\n",
       "            </tr>\n",
       "            <tr>\n",
       "                <th>EOG channels</th>\n",
       "                <td>Not available</td>\n",
       "            </tr>\n",
       "            <tr>\n",
       "                <th>ECG channels</th>\n",
       "                <td>Not available</td>\n",
       "            </tr>\n",
       "        </table>\n",
       "        </details>\n",
       "        <details open>\n",
       "            <summary><strong>Data</strong></summary>\n",
       "            <table class=\"table table-hover table-striped table-sm table-responsive small\">\n",
       "                \n",
       "                <tr>\n",
       "                    <th>Sampling frequency</th>\n",
       "                    <td>250.00 Hz</td>\n",
       "                </tr>\n",
       "                \n",
       "                \n",
       "                <tr>\n",
       "                    <th>Highpass</th>\n",
       "                    <td>0.00 Hz</td>\n",
       "                </tr>\n",
       "                \n",
       "                \n",
       "                <tr>\n",
       "                    <th>Lowpass</th>\n",
       "                    <td>125.00 Hz</td>\n",
       "                </tr>\n",
       "                \n",
       "                \n",
       "                \n",
       "                \n",
       "            </table>\n",
       "            </details>"
      ],
      "text/plain": [
       "<Info | 8 non-empty values\n",
       " bads: []\n",
       " ch_names: F3, Fz, F4, C3, Cz, C4, P3, P4\n",
       " chs: 8 EEG\n",
       " custom_ref_applied: False\n",
       " dig: 11 items (3 Cardinal, 8 EEG)\n",
       " highpass: 0.0 Hz\n",
       " lowpass: 125.0 Hz\n",
       " meas_date: unspecified\n",
       " nchan: 8\n",
       " projs: []\n",
       " sfreq: 250.0 Hz\n",
       ">"
      ]
     },
     "execution_count": 125,
     "metadata": {},
     "output_type": "execute_result"
    }
   ],
   "source": [
    "n_channels = 8\n",
    "ch_types = ['eeg'] * n_channels\n",
    "sfreq = 250\n",
    "ch_names = [\"F3\", \"Fz\", \"F4\", \"C3\", \"Cz\", \"C4\", \"P3\", \"P4\"]\n",
    "info = mne.create_info(ch_names=ch_names, sfreq=sfreq, ch_types=ch_types)\n",
    "info.set_montage(\"standard_1020\")"
   ]
  },
  {
   "cell_type": "code",
   "execution_count": 126,
   "metadata": {},
   "outputs": [],
   "source": [
    "ia = '../dataset-s7/IA/OpenBCI-RAW-2023-09-28_16-51-25_IA.txt'\n",
    "ia_ob = np.loadtxt(ia, delimiter=',', skiprows=5, usecols=range(1, 9))\n",
    "\n",
    "basal = '../dataset-s7/TF/OpenBCI-RAW-2023-11-07_13-17-01_TF.txt'\n",
    "basal_ob = np.loadtxt(basal, delimiter=',', skiprows=5, usecols=range(1, 9))"
   ]
  },
  {
   "cell_type": "code",
   "execution_count": 127,
   "metadata": {},
   "outputs": [],
   "source": [
    "# Aula IA\n",
    "ia_timeranges = [\n",
    "    \"6:00 - 10:17\",\n",
    "]\n",
    "\n",
    "# Basal (TF)\n",
    "basal_timerange = [\n",
    "    \"3:28 - 4:28\"\n",
    "]"
   ]
  },
  {
   "cell_type": "code",
   "execution_count": 128,
   "metadata": {},
   "outputs": [
    {
     "name": "stdout",
     "output_type": "stream",
     "text": [
      "Creating RawArray with float64 data, n_channels=8, n_times=64250\n",
      "    Range : 0 ... 64249 =      0.000 ...   256.996 secs\n",
      "Ready.\n",
      "Creating RawArray with float64 data, n_channels=8, n_times=15000\n",
      "    Range : 0 ... 14999 =      0.000 ...    59.996 secs\n",
      "Ready.\n"
     ]
    }
   ],
   "source": [
    "ia_index = []\n",
    "ia_index = convert_time_range_to_index(ia_timeranges[0])\n",
    "\n",
    "basal_index = []\n",
    "basal_index = convert_time_range_to_index(basal_timerange[0])\n",
    "\n",
    "data_cut_ia = ia_ob[ia_index[0]:ia_index[1], :]\n",
    "data_cut_basal = basal_ob[basal_index[0]:basal_index[1], :]\n",
    "\n",
    "X = {\n",
    "    'ia': mne.io.RawArray(data_cut_ia.T, info),\n",
    "    'basal': mne.io.RawArray(data_cut_basal.T, info),\n",
    "}"
   ]
  },
  {
   "cell_type": "markdown",
   "metadata": {},
   "source": [
    "### Filtragem dos dados\n",
    "\n",
    "O laço a seguir aplica dois filtros nos dados. Primeiramente, atenua-se com um filtro _notch_ a frequência de 60Hz de forma a evitar a interferência da rede elétrica e, posteriormente, obtém-se a faixa de frequência desejada de 4 a 100Hz com um filtro passa faixa."
   ]
  },
  {
   "cell_type": "code",
   "execution_count": 129,
   "metadata": {},
   "outputs": [
    {
     "name": "stdout",
     "output_type": "stream",
     "text": [
      "Filtering raw data in 1 contiguous segment\n",
      "Setting up band-stop filter from 59 - 61 Hz\n",
      "\n",
      "FIR filter parameters\n",
      "---------------------\n",
      "Designing a one-pass, zero-phase, non-causal bandstop filter:\n",
      "- Windowed time-domain design (firwin) method\n",
      "- Hamming window with 0.0194 passband ripple and 53 dB stopband attenuation\n",
      "- Lower passband edge: 59.35\n",
      "- Lower transition bandwidth: 0.50 Hz (-6 dB cutoff frequency: 59.10 Hz)\n",
      "- Upper passband edge: 60.65 Hz\n",
      "- Upper transition bandwidth: 0.50 Hz (-6 dB cutoff frequency: 60.90 Hz)\n",
      "- Filter length: 1651 samples (6.604 s)\n",
      "\n",
      "Filtering raw data in 1 contiguous segment\n",
      "Setting up band-pass filter from 4 - 1e+02 Hz\n",
      "\n",
      "FIR filter parameters\n",
      "---------------------\n",
      "Designing a one-pass, zero-phase, non-causal bandpass filter:\n",
      "- Windowed time-domain design (firwin) method\n",
      "- Hamming window with 0.0194 passband ripple and 53 dB stopband attenuation\n",
      "- Lower passband edge: 4.00\n",
      "- Lower transition bandwidth: 2.00 Hz (-6 dB cutoff frequency: 3.00 Hz)\n",
      "- Upper passband edge: 100.00 Hz\n",
      "- Upper transition bandwidth: 25.00 Hz (-6 dB cutoff frequency: 112.50 Hz)\n",
      "- Filter length: 413 samples (1.652 s)\n",
      "\n",
      "Filtering raw data in 1 contiguous segment\n",
      "Setting up band-stop filter from 59 - 61 Hz\n",
      "\n",
      "FIR filter parameters\n",
      "---------------------\n",
      "Designing a one-pass, zero-phase, non-causal bandstop filter:\n",
      "- Windowed time-domain design (firwin) method\n",
      "- Hamming window with 0.0194 passband ripple and 53 dB stopband attenuation\n",
      "- Lower passband edge: 59.35\n",
      "- Lower transition bandwidth: 0.50 Hz (-6 dB cutoff frequency: 59.10 Hz)\n",
      "- Upper passband edge: 60.65 Hz\n",
      "- Upper transition bandwidth: 0.50 Hz (-6 dB cutoff frequency: 60.90 Hz)\n",
      "- Filter length: 1651 samples (6.604 s)\n",
      "\n",
      "Filtering raw data in 1 contiguous segment\n",
      "Setting up band-pass filter from 4 - 1e+02 Hz\n",
      "\n",
      "FIR filter parameters\n",
      "---------------------\n",
      "Designing a one-pass, zero-phase, non-causal bandpass filter:\n",
      "- Windowed time-domain design (firwin) method\n",
      "- Hamming window with 0.0194 passband ripple and 53 dB stopband attenuation\n",
      "- Lower passband edge: 4.00\n",
      "- Lower transition bandwidth: 2.00 Hz (-6 dB cutoff frequency: 3.00 Hz)\n",
      "- Upper passband edge: 100.00 Hz\n",
      "- Upper transition bandwidth: 25.00 Hz (-6 dB cutoff frequency: 112.50 Hz)\n",
      "- Filter length: 413 samples (1.652 s)\n",
      "\n"
     ]
    }
   ],
   "source": [
    "# TODO: filtrar corretamente os dados que são usados para SNR (basal)\n",
    "\n",
    "for key in X:\n",
    "    X[key].notch_filter(freqs=60)\n",
    "    X[key].filter(l_freq=4, h_freq=100)\n",
    "\n",
    "# X['ia'].notch_filter(freqs=60)\n",
    "# X['ia'].filter(l_freq=4, h_freq=100)"
   ]
  },
  {
   "cell_type": "markdown",
   "metadata": {},
   "source": [
    "### Janela Deslizante"
   ]
  },
  {
   "cell_type": "code",
   "execution_count": 132,
   "metadata": {},
   "outputs": [
    {
     "name": "stdout",
     "output_type": "stream",
     "text": [
      "EEG channel type selected for re-referencing\n",
      "Applying average reference.\n",
      "Applying a custom ('EEG',) reference.\n"
     ]
    },
    {
     "name": "stdout",
     "output_type": "stream",
     "text": [
      "EEG channel type selected for re-referencing\n",
      "Applying average reference.\n",
      "Applying a custom ('EEG',) reference.\n"
     ]
    },
    {
     "ename": "IndexError",
     "evalue": "tuple index out of range",
     "output_type": "error",
     "traceback": [
      "\u001b[0;31m---------------------------------------------------------------------------\u001b[0m",
      "\u001b[0;31mIndexError\u001b[0m                                Traceback (most recent call last)",
      "Cell \u001b[0;32mIn[132], line 72\u001b[0m\n\u001b[1;32m     69\u001b[0m         labels\u001b[38;5;241m.\u001b[39mappend(band_labels\u001b[38;5;241m.\u001b[39mget(dominant_band, \u001b[38;5;124m'\u001b[39m\u001b[38;5;124mNão Focado\u001b[39m\u001b[38;5;124m'\u001b[39m))\n\u001b[1;32m     71\u001b[0m     \u001b[38;5;66;03m# Armazenando os rótulos\u001b[39;00m\n\u001b[0;32m---> 72\u001b[0m     samples[\u001b[43mdata_names\u001b[49m\u001b[43m[\u001b[49m\u001b[43mk\u001b[49m\u001b[43m]\u001b[49m] \u001b[38;5;241m=\u001b[39m {\n\u001b[1;32m     73\u001b[0m         \u001b[38;5;124m'\u001b[39m\u001b[38;5;124mTheta\u001b[39m\u001b[38;5;124m'\u001b[39m: labels\u001b[38;5;241m.\u001b[39mcount(\u001b[38;5;124m'\u001b[39m\u001b[38;5;124mTheta\u001b[39m\u001b[38;5;124m'\u001b[39m),\n\u001b[1;32m     74\u001b[0m         \u001b[38;5;124m'\u001b[39m\u001b[38;5;124mBeta\u001b[39m\u001b[38;5;124m'\u001b[39m: labels\u001b[38;5;241m.\u001b[39mcount(\u001b[38;5;124m'\u001b[39m\u001b[38;5;124mBeta\u001b[39m\u001b[38;5;124m'\u001b[39m),\n\u001b[1;32m     75\u001b[0m         \u001b[38;5;124m'\u001b[39m\u001b[38;5;124mGamma\u001b[39m\u001b[38;5;124m'\u001b[39m: labels\u001b[38;5;241m.\u001b[39mcount(\u001b[38;5;124m'\u001b[39m\u001b[38;5;124mGamma\u001b[39m\u001b[38;5;124m'\u001b[39m),\n\u001b[1;32m     76\u001b[0m         \u001b[38;5;124m'\u001b[39m\u001b[38;5;124mNão Focado\u001b[39m\u001b[38;5;124m'\u001b[39m: labels\u001b[38;5;241m.\u001b[39mcount(\u001b[38;5;124m'\u001b[39m\u001b[38;5;124mNão Focado\u001b[39m\u001b[38;5;124m'\u001b[39m)\n\u001b[1;32m     77\u001b[0m     }\n\u001b[1;32m     79\u001b[0m     \u001b[38;5;66;03m# total = sum(results)\u001b[39;00m\n\u001b[1;32m     80\u001b[0m     \u001b[38;5;66;03m# percentages = [round((count/total) * 100, 2) for count in results]\u001b[39;00m\n\u001b[1;32m     81\u001b[0m     \u001b[38;5;66;03m# print(data.__str__())\u001b[39;00m\n\u001b[1;32m     82\u001b[0m     \u001b[38;5;66;03m# total_pc[data_names[k]] = percentages\u001b[39;00m\n\u001b[1;32m     83\u001b[0m \n\u001b[1;32m     84\u001b[0m \u001b[38;5;66;03m# print(total_pc)\u001b[39;00m\n\u001b[1;32m     85\u001b[0m \u001b[38;5;28mprint\u001b[39m(samples)\n",
      "\u001b[0;31mIndexError\u001b[0m: tuple index out of range"
     ]
    }
   ],
   "source": [
    "\n",
    "sr = 250            # Taxa de amostragem dos dados do EEG (250Hz)\n",
    "jump = 5            # Tamanho da janela de análise (5 em 5 segundos)\n",
    "size = sr * jump    # Número de pontos de dados em cada janela de análise\n",
    "\n",
    "# Definindo os limites das bandas de frequência (em Hz)\n",
    "theta_band = (4, 8)       # Theta: 4 - 8 Hz\n",
    "alpha_band = (8, 13)      # Alpha: 8 - 13 Hz\n",
    "beta_band = (13, 30)      # Beta: 13 - 30 Hz\n",
    "gamma_band = (30, 100)    # Gamma: 30 - 100 Hz\n",
    "\n",
    "\n",
    "samples = {\n",
    "    'focus': [],\n",
    "    'not_focus': []\n",
    "}\n",
    "total_pc = {}\n",
    "data_names = ('ia',)\n",
    "\n",
    "# Mapeamento de índices para rótulos\n",
    "band_labels = {\n",
    "    0: 'focus',\n",
    "    1: 'not_focus',\n",
    "}\n",
    "\n",
    "for k, data in enumerate(X.values()): # TODO: obter apenas os dados da aula e não do basal\n",
    "    results = [0, 0, 0, 0] # Contagem de dominância de cada banda\n",
    "    labels = [] # Lista para armazenar os rótulos das janelas\n",
    "\n",
    "    data.set_eeg_reference(ref_channels='average', projection=False)\n",
    "    \n",
    "    # Percorre os dados em incrementos de sr (1 segundo) extraindo janelas de tamanho size (4s)\n",
    "    for i in range(0, int(data.times[-1] - jump), 1):\n",
    "        tmin = i\n",
    "        tmax = i + jump\n",
    "\n",
    "        cut = data.copy().crop(tmin=tmin, tmax=tmax).get_data()\n",
    "\n",
    "        # Número de pontos por segmento\n",
    "        n_per_seg = 128\n",
    "        # Quantidade de sobreposição entre segmentos\n",
    "        n_overlap = n_per_seg // 2 # 64\n",
    "        \n",
    "        # Calculando a densidade espectral de potência (PSD)\n",
    "        freqs, psd = welch(cut, fs=sr, nperseg=n_per_seg, noverlap=n_overlap)\n",
    "        \n",
    "        # realizando a média dos 8 eletrodos\n",
    "        # transformando em um ndarray unidimensional\n",
    "        X_avg = np.average(psd, axis=0)\n",
    "\n",
    "        # Encontrar os índices correspondentes às frequências de interesse\n",
    "        theta_idxs = np.where((freqs >= theta_band[0]) & (freqs <= theta_band[1]))[0]\n",
    "        alpha_idxs = np.where((freqs >= alpha_band[0]) & (freqs <= alpha_band[1]))[0]\n",
    "        beta_idxs = np.where((freqs >= beta_band[0]) & (freqs <= beta_band[1]))[0]\n",
    "        gamma_idxs = np.where((freqs >= gamma_band[0]) & (freqs <= gamma_band[1]))[0]\n",
    "\n",
    "        # Calculando a potência em cada banda de frequência por meio da integração da PSD\n",
    "        bands = [\n",
    "            np.sum(X_avg[theta_idxs]),\n",
    "            np.sum(X_avg[alpha_idxs]),\n",
    "            np.sum(X_avg[beta_idxs]),\n",
    "            np.sum(X_avg[gamma_idxs])\n",
    "        ]\n",
    "        \n",
    "        # Determina qual banda é a dominante (maior potência)\n",
    "        dominant_band = np.argmax(bands)\n",
    "        \n",
    "        # Calculando a pontuação de cada banda para mostrar a porcentagem\n",
    "        results[dominant_band] += 1\n",
    "        \n",
    "        if dominant_band == 2 or dominant_band == 3:\n",
    "            samples['focus'].append(X_avg)\n",
    "        else:\n",
    "            samples['not_focus'].append(X_avg)\n",
    "\n",
    "        # Adicionando o rótulo correspondente\n",
    "        # labels.append(band_labels.get(dominant_band))\n",
    "\n",
    "    # total = sum(results)\n",
    "    # percentages = [round((count/total) * 100, 2) for count in results]\n",
    "    # print(data.__str__())\n",
    "    # total_pc[data_names[k]] = percentages\n",
    "\n",
    "# print(total_pc)\n",
    "print(samples)"
   ]
  },
  {
   "cell_type": "markdown",
   "metadata": {},
   "source": [
    "### Estimando o ruído de fundo através do sinal basal"
   ]
  },
  {
   "cell_type": "code",
   "execution_count": 130,
   "metadata": {},
   "outputs": [
    {
     "name": "stdout",
     "output_type": "stream",
     "text": [
      "0.8198100447907464\n"
     ]
    }
   ],
   "source": [
    "# Convertendo o tipo dos dados filtrados de objeto RawArray para ndarray\n",
    "ndarray_data_basal = X['basal'].copy().get_data()\n",
    "\n",
    "# Transformando os dados de basal para o domínio da frequência\n",
    "_, data_basal_frequency = welch(ndarray_data_basal, fs=250, nperseg=512, noverlap=256)\n",
    "\n",
    "# Lista que armazena as médias de potência para cada canal\n",
    "noise_power = []\n",
    "\n",
    "for channel_data in data_basal_frequency:\n",
    "    # fft_result = np.fft.fft(channel_data)\n",
    "\n",
    "    # # densidade espectral de potência (PSD)\n",
    "    # psd = np.abs(fft_result) ** 2\n",
    "    \n",
    "    # média da potência no intervalo de tempo sem estímulo\n",
    "    base_power = np.mean(channel_data)\n",
    "    noise_power.append(base_power)\n",
    "\n",
    "# média das médias de potência de todos os canais para estimar o ruído de fundo\n",
    "estimated_background_noise = np.mean(noise_power)\n",
    "print(estimated_background_noise)"
   ]
  },
  {
   "cell_type": "markdown",
   "metadata": {},
   "source": [
    "### Relação Sinal-Ruído de Banda Estreita\n",
    "\n",
    "Banda estreita refere-se a sinais em que a largura de banda do sinal é pequena em relação à frequência central do sinal. Nesse sentido, a SNR de banda estreita é aplicada quando o sinal e o ruído ocupam uma faixa de frequência muito restrita. Ela pode ser observada pela seguinte equação:\n",
    "\n",
    "$SNR_{banda\\ estreita} = 10 \\cdot \\log_{10}\\left(\\frac{\\text{energia total do espectro}}{\\text{média das amplitudes nas frequências vizinhas}}\\right)$\n",
    "\n",
    "### Relação Sinal-Ruído de Banda Larga\n",
    "\n",
    "Por outro lado, banda larga refere-se a sinais onde a largura de banda do sinal é grande, abrangendo uma ampla faixa de frequências. Dessa maneira, a SNR de banda larga aplica-se a situações nas quais tanto o sinal quanto o ruído ocupam uma larga faixa de frequências é definido da seguinte forma:\n",
    "\n",
    "$SNR_{banda\\ larga} = 10 \\cdot \\log_{10}\\left(\\frac{\\text{energia total do espectro}}{\\text{energia total do espectro de amplitude}}\\right)$"
   ]
  },
  {
   "cell_type": "markdown",
   "metadata": {},
   "source": [
    "### Aplicando as SNR de Banda Estreita e Larga para o sinal de interesse"
   ]
  },
  {
   "cell_type": "code",
   "execution_count": 131,
   "metadata": {},
   "outputs": [
    {
     "name": "stdout",
     "output_type": "stream",
     "text": [
      "[[        nan         nan         nan ...         nan         nan\n",
      "          nan]\n",
      " [        nan         nan         nan ...         nan         nan\n",
      "          nan]\n",
      " [        nan         nan         nan ...         nan         nan\n",
      "          nan]\n",
      " ...\n",
      " [ 4.83491761 14.70718832 17.71755012 ... 17.34813431 18.15364022\n",
      "  13.84717528]\n",
      " [        nan 10.96344504 14.62844169 ... 14.59526367 13.31339817\n",
      "  10.83091876]\n",
      " [        nan         nan         nan ...         nan         nan\n",
      "          nan]]\n",
      "(64250, 8)\n",
      "[[-57.11077187 -57.11077187 -57.11077187 ... -57.11077187 -57.11077187\n",
      "  -57.11077187]\n",
      " [-43.06237217 -43.0490568  -44.84568801 ... -43.5080139  -45.28252127\n",
      "  -43.59008979]\n",
      " [-40.84226189 -41.26946651 -43.84771778 ... -41.95372799 -41.37399328\n",
      "  -42.24462009]\n",
      " ...\n",
      " [         nan          nan          nan ...          nan          nan\n",
      "           nan]\n",
      " [-54.23885851          nan          nan ...          nan          nan\n",
      "           nan]\n",
      " [-57.11077187 -57.11077187 -57.11077187 ... -57.11077187 -57.11077187\n",
      "  -57.11077187]]\n",
      "(64250, 8)\n"
     ]
    },
    {
     "name": "stderr",
     "output_type": "stream",
     "text": [
      "/tmp/ipykernel_3687/4076114485.py:3: RuntimeWarning: invalid value encountered in log10\n",
      "  narrow_band_SNR = 10 * np.log10(target_amplitudes_adjusted / estimated_background_noise)\n",
      "/tmp/ipykernel_3687/4076114485.py:8: RuntimeWarning: invalid value encountered in log10\n",
      "  wide_band_SNR = 10 * np.log10(target_amplitudes_adjusted / total_power)\n"
     ]
    }
   ],
   "source": [
    "# TODO um for\n",
    "# array de ndarrays\n",
    "# para cada ndarray de ndarrays\n",
    "target_amplitudes_adjusted = ndarray - estimated_background_noise\n",
    "\n",
    "narrow_band_SNR = 10 * np.log10(target_amplitudes_adjusted / estimated_background_noise)\n",
    "print(narrow_band_SNR)\n",
    "print(narrow_band_SNR.shape)\n",
    "\n",
    "total_power = np.sum(target_amplitudes_adjusted)\n",
    "wide_band_SNR = 10 * np.log10(target_amplitudes_adjusted / total_power)\n",
    "print(wide_band_SNR)\n",
    "print(wide_band_SNR.shape)"
   ]
  },
  {
   "cell_type": "markdown",
   "metadata": {},
   "source": [
    "### Tarefa para aplicação das características SNR:\n",
    "\n",
    "Agora que temos os dois vetores de características SNR, podemos utilizar buffers com e sem a evocação dos rítmos que caracterizam o foco.\n",
    "\n",
    "#### Divisão dos dados\n",
    "\n",
    "Utilizando a iteração (por exemplo, de 5 segundos caracterizada pela janela) realizada no sinal a cada ~1 segundo, realize a rotulação dos dados de interesse (Beta e Gamma). Ou seja, cada amostra será um sinal de 5 segundos (1250 pontos de 8 canais). A janela que não for qualificada como Beta ou Gama por exemplo, poderá ser rotulada com \"desfoque\". Se acharem interessante, adicionar rótulos do ritmo Theta também.\n",
    "\n",
    "No caso do sinal que representa o basal (se tiverem) poderá pegar um único sinal de aproximadamente 30 segundos para ser utilizado na equação de ruído, que irá ter como resultado um único valor. Lembrando que o valor de ruído deve atuar no sinal no domínio da frequência.\n",
    "\n",
    "#### Classificação\n",
    "\n",
    "Cálculo: diferença entre tempo inicial (em minutos) e final (tbm em min) dada por: (tempo_min * 60) * 250. Aplicando aos dados reais para criar o vetor de características:\n",
    "\n",
    "- Diferença: 90000 - 154250 com 8 canais\n",
    "- Pontos totais: 64250 com 8 canais\n",
    "\n",
    "- 64.250 (pontos totais) / 250 (taxa de amostragem) = 257 segundos\n",
    "- 257 / 5 (tamanho da janela sem sobreposição) = 51 amostras (51,4)\n",
    "\n",
    "<br>\n",
    "\n",
    "Em nossos dados simulados, temos 150.000 pontos com 8 canais. A utilização desses dados funcionará da seguinte forma para a criação do vetor de características:\n",
    "\n",
    "- 150.000 (pontos totais) / 250 (taxa de amostragem) = 600 segundos\n",
    "- 600 / 5 (tamanho da janela sem sobreposição) = 120 amostras\n",
    "\n",
    "| 1   | SNRw1                | SNRw2 | ... | SNRw8 | SNRn1 | SNRn2 | ... | SNRn8 |\n",
    "|-----|----------------------|-------|-----|-------|-------|-------|-----|-------|\n",
    "| 2   | [w1, w2, ..., w1250] |       |     |       |       |       |     |       |\n",
    "| 3   |                      |       |     |       |       |       |     |       |\n",
    "| ... |                      |       |     |       |       |       |     |       |\n",
    "| 120 |                      |       |     |       |       |       |     |       |\n",
    "\n",
    "- Agora transforme cada um dos vetores de pontos no domínio da frequência (1250 pontos) em um único valor real. Neste caso pode ser utilizado tanto a média como a mediana (ou ambos). Se utilizarmos as duas, teremos no final 32 colunas de características:\n",
    "    - 8 canais\n",
    "    - SNR narrow e SNR wide (2)\n",
    "    - Média e mediana (2)\n",
    "\n",
    "| 1   | 1   | ... | 32 |\n",
    "|-----|-----|-----|----|\n",
    "| 2   | w'  | ... |    |\n",
    "| 3   | ... |     |    |\n",
    "| ... |     |     |    |\n",
    "| 120 |     |     |    |\n",
    "\n",
    "\n",
    "\n",
    "Após obter o vetor de característica, realizar a divisão dos dados em treinamento e teste (normalmente uma proporção de 70 e 30% respectivamente) e aplicar para o classificador SVM.\n",
    "\n",
    "**PLUS**: Ao final da tarefa, verificar a melhora dos resultados utilizando um seletor de características. Neste caso, podemos utilizar o RFE (*Recursive Feature Elimination*) em uma fase anterior a classificação para reduzir as 32 características se for necessário.\n",
    "\n",
    "\n"
   ]
  }
 ],
 "metadata": {
  "kernelspec": {
   "display_name": "venv",
   "language": "python",
   "name": "python3"
  },
  "language_info": {
   "codemirror_mode": {
    "name": "ipython",
    "version": 3
   },
   "file_extension": ".py",
   "mimetype": "text/x-python",
   "name": "python",
   "nbconvert_exporter": "python",
   "pygments_lexer": "ipython3",
   "version": "3.10.12"
  }
 },
 "nbformat": 4,
 "nbformat_minor": 2
}
