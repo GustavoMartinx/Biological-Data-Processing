{
 "cells": [
  {
   "cell_type": "markdown",
   "metadata": {},
   "source": [
    "# Relação Sinal Ruído (SNR)"
   ]
  },
  {
   "cell_type": "code",
   "execution_count": null,
   "metadata": {},
   "outputs": [],
   "source": [
    "import mne\n",
    "import numpy as np\n",
    "from scipy.signal import welch\n",
    "import matplotlib.pyplot as plt\n",
    "from matplotlib import rcParams"
   ]
  },
  {
   "cell_type": "code",
   "execution_count": null,
   "metadata": {},
   "outputs": [],
   "source": [
    "# Transform a string that represents a time value (\"min:sec\") into number and converts it to seconds\n",
    "def convert_min_to_sec(time):\n",
    "    minutes, seconds = map(int, time.split(\":\"))\n",
    "    return minutes * 60 + seconds\n",
    "\n",
    "# Transfor a string thats represents a range time \"0:21 - 0:40\" into index that will be used to cut data\n",
    "def convert_time_range_to_index(timerange):\n",
    "    start, end = map(str, timerange.split(\" - \"))\n",
    "    new_start = convert_min_to_sec(start)\n",
    "    new_end = convert_min_to_sec(end)\n",
    "    \n",
    "    index = []\n",
    "    index.append(new_start * 250)\n",
    "    index.append(new_end * 250)\n",
    "\n",
    "    return index"
   ]
  },
  {
   "cell_type": "code",
   "execution_count": null,
   "metadata": {},
   "outputs": [],
   "source": [
    "n_channels = 8\n",
    "ch_types = ['eeg'] * n_channels\n",
    "sfreq = 250\n",
    "ch_names = [\"F3\", \"Fz\", \"F4\", \"C3\", \"Cz\", \"C4\", \"P3\", \"P4\"]\n",
    "info = mne.create_info(ch_names=ch_names, sfreq=sfreq, ch_types=ch_types)\n",
    "info.set_montage(\"standard_1020\")"
   ]
  },
  {
   "cell_type": "code",
   "execution_count": null,
   "metadata": {},
   "outputs": [],
   "source": [
    "ia = '../dataset-s7/IA/OpenBCI-RAW-2023-09-28_16-51-25_IA.txt'\n",
    "ia_ob = np.loadtxt(ia, delimiter=',', skiprows=5, usecols=range(1, 9))\n",
    "\n",
    "basal = '../dataset-s7/TF/OpenBCI-RAW-2023-11-07_13-17-01_TF.txt'\n",
    "basal_ob = np.loadtxt(basal, delimiter=',', skiprows=5, usecols=range(1, 9))"
   ]
  },
  {
   "cell_type": "code",
   "execution_count": null,
   "metadata": {},
   "outputs": [],
   "source": [
    "# Aula IA\n",
    "ia_timeranges = [\n",
    "    \"6:00 - 10:17\",\n",
    "]\n",
    "\n",
    "# Basal (TF)\n",
    "basal_timerange = [\n",
    "    \"3:28 - 4:28\"\n",
    "]"
   ]
  },
  {
   "cell_type": "code",
   "execution_count": null,
   "metadata": {},
   "outputs": [],
   "source": [
    "ia_index = []\n",
    "ia_index = convert_time_range_to_index(ia_timeranges[1])\n",
    "\n",
    "basal_index = []\n",
    "basal_index = convert_time_range_to_index(basal_timerange[0])\n",
    "\n",
    "data_cut_ia = ia_ob[ia_index[0]:ia_index[1], :]\n",
    "data_cut_basal = basal_ob[basal_index[0]:basal_index[1], :]\n",
    "\n",
    "X = {\n",
    "    'ia': mne.io.RawArray(data_cut_ia.T, info),\n",
    "    'basal': mne.io.RawArray(data_cut_basal.T, info),\n",
    "}"
   ]
  },
  {
   "cell_type": "code",
   "execution_count": null,
   "metadata": {},
   "outputs": [],
   "source": []
  },
  {
   "cell_type": "markdown",
   "metadata": {},
   "source": [
    "### Tarefas\n",
    "\n",
    "- 1. Relação sinal-ruído\n",
    "    - [x] obter trecho de sinal basal: TF 3:28 - 4:28\n",
    "    - aplicar nos dados de IA"
   ]
  }
 ],
 "metadata": {
  "kernelspec": {
   "display_name": "venv",
   "language": "python",
   "name": "python3"
  },
  "language_info": {
   "name": "python",
   "version": "3.10.12"
  }
 },
 "nbformat": 4,
 "nbformat_minor": 2
}
