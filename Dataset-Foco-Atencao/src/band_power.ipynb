{
 "cells": [
  {
   "cell_type": "markdown",
   "metadata": {},
   "source": [
    "por que dividir os dados?\n",
    "- não queremos resolução absoluta\n",
    "- mas poucos dados -> baixa amostragem\n",
    "    solução: um buffer de 4 a 8 segundos (que percorrerá ao longo dos dados) (abaixo de 3 é ruim)\n",
    "\n",
    "Segmento de 4 segundos\n",
    "    - 1000 pontos\n",
    "    - não fazer segmentos de 4 em 4 pois dados (infos importantes) entre os segmentos serão perdidos\n",
    "        solução: overlap de pelo menos 0.5: dessa forma obtemos correlações entre as faixas (mais overlap, melhor)\n",
    "    - por isso andar de 1 em 1 segundo: é gerado um overlap de 0.75\n",
    "\n",
    "    na fft (welch)\n",
    "    - 250/2 = 125. mas pq não 125? pois ideal são num de potência de 2 (fft lida melhor com potências de 2). Ou seja, 128 não pq é maior que a metade, então 64.\n",
    "\n",
    "    - em dois momentos\n",
    "        - no domínio do tempo (loop variando tmin e tmax - 1 em 1 seg)\n",
    "        - welch"
   ]
  }
 ],
 "metadata": {
  "language_info": {
   "name": "python"
  }
 },
 "nbformat": 4,
 "nbformat_minor": 2
}
