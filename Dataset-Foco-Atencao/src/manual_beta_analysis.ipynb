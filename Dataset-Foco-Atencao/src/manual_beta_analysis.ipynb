{
 "cells": [
  {
   "cell_type": "markdown",
   "metadata": {},
   "source": [
    "# Verificação Manual das Frequências Cerebrais\n",
    "\n",
    "A fim de validar a corretude do código, neste _notebook_ será verificado se um sinal observado através do OpenBCI é também obtido por meio do código. Para tal, escolheu-se os seguintes intervalos de tempo:\n",
    "\n",
    "Trecho onde a frequência _gamma_ deve ser observada:\n",
    "- 10:07 - 10:25\n",
    "\n",
    "Trecho no qual não deve ser obsevada a frequência _gamma_:\n",
    "- 3:25 - 3:40\n"
   ]
  },
  {
   "cell_type": "code",
   "execution_count": null,
   "metadata": {
    "vscode": {
     "languageId": "plaintext"
    }
   },
   "outputs": [],
   "source": []
  }
 ],
 "metadata": {
  "language_info": {
   "name": "python"
  }
 },
 "nbformat": 4,
 "nbformat_minor": 2
}
