{
 "cells": [
  {
   "cell_type": "markdown",
   "metadata": {},
   "source": [
    "##### Análise de Recorte Específico\n",
    "\n",
    "Por meio da análise dos dados do experimento no _software_ OpenBCI GUI, foram identificados trechos que apresentam picos de bandas específicas. A seguir, os principais momentos são evidenciados."
   ]
  },
  {
   "cell_type": "code",
   "execution_count": 95,
   "metadata": {},
   "outputs": [],
   "source": [
    "import mne\n",
    "import numpy as np\n",
    "from scipy.signal import welch\n",
    "import matplotlib.pyplot as plt\n",
    "from matplotlib import rcParams"
   ]
  },
  {
   "cell_type": "code",
   "execution_count": 96,
   "metadata": {},
   "outputs": [],
   "source": [
    "# Transform a string that represents a time value (\"min:sec\") into number and converts it to seconds\n",
    "def convert_min_to_sec(time):\n",
    "    minutes, seconds = map(int, time.split(\":\"))\n",
    "    return minutes * 60 + seconds\n",
    "\n",
    "# Transfor a string thats represents a range time \"0:21 - 0:40\" into index that will be used to cut data\n",
    "def convert_time_range_to_index(timerange):\n",
    "    start, end = map(str, timerange.split(\" - \"))\n",
    "    new_start = convert_min_to_sec(start)\n",
    "    new_end = convert_min_to_sec(end)\n",
    "    \n",
    "    index = []\n",
    "    index.append(new_start * 250)\n",
    "    index.append(new_end * 250)\n",
    "\n",
    "    return index"
   ]
  },
  {
   "cell_type": "code",
   "execution_count": 97,
   "metadata": {},
   "outputs": [
    {
     "data": {
      "text/html": [
       "<details open>\n",
       "    <summary><strong>General</strong></summary>\n",
       "    <table class=\"table table-hover table-striped table-sm table-responsive small\">\n",
       "        <tr>\n",
       "            <th>Measurement date</th>\n",
       "            \n",
       "            <td>Unknown</td>\n",
       "            \n",
       "        </tr>\n",
       "        <tr>\n",
       "            <th>Experimenter</th>\n",
       "            \n",
       "            <td>Unknown</td>\n",
       "            \n",
       "        </tr>\n",
       "        <tr>\n",
       "            <th>Participant</th>\n",
       "            \n",
       "            <td>Unknown</td>\n",
       "            \n",
       "        </tr>\n",
       "    </table>\n",
       "    </details>\n",
       "    <details open>\n",
       "        <summary><strong>Channels</strong></summary>\n",
       "        <table class=\"table table-hover table-striped table-sm table-responsive small\">\n",
       "            <tr>\n",
       "                <th>Digitized points</th>\n",
       "                \n",
       "                <td>11 points</td>\n",
       "                \n",
       "            </tr>\n",
       "            <tr>\n",
       "                <th>Good channels</th>\n",
       "                <td>8 EEG</td>\n",
       "            </tr>\n",
       "            <tr>\n",
       "                <th>Bad channels</th>\n",
       "                <td>None</td>\n",
       "            </tr>\n",
       "            <tr>\n",
       "                <th>EOG channels</th>\n",
       "                <td>Not available</td>\n",
       "            </tr>\n",
       "            <tr>\n",
       "                <th>ECG channels</th>\n",
       "                <td>Not available</td>\n",
       "            </tr>\n",
       "        </table>\n",
       "        </details>\n",
       "        <details open>\n",
       "            <summary><strong>Data</strong></summary>\n",
       "            <table class=\"table table-hover table-striped table-sm table-responsive small\">\n",
       "                \n",
       "                <tr>\n",
       "                    <th>Sampling frequency</th>\n",
       "                    <td>250.00 Hz</td>\n",
       "                </tr>\n",
       "                \n",
       "                \n",
       "                <tr>\n",
       "                    <th>Highpass</th>\n",
       "                    <td>0.00 Hz</td>\n",
       "                </tr>\n",
       "                \n",
       "                \n",
       "                <tr>\n",
       "                    <th>Lowpass</th>\n",
       "                    <td>125.00 Hz</td>\n",
       "                </tr>\n",
       "                \n",
       "                \n",
       "                \n",
       "                \n",
       "            </table>\n",
       "            </details>"
      ],
      "text/plain": [
       "<Info | 8 non-empty values\n",
       " bads: []\n",
       " ch_names: F3, Fz, F4, C3, Cz, C4, P3, P4\n",
       " chs: 8 EEG\n",
       " custom_ref_applied: False\n",
       " dig: 11 items (3 Cardinal, 8 EEG)\n",
       " highpass: 0.0 Hz\n",
       " lowpass: 125.0 Hz\n",
       " meas_date: unspecified\n",
       " nchan: 8\n",
       " projs: []\n",
       " sfreq: 250.0 Hz\n",
       ">"
      ]
     },
     "execution_count": 97,
     "metadata": {},
     "output_type": "execute_result"
    }
   ],
   "source": [
    "n_channels = 8\n",
    "ch_types = ['eeg'] * n_channels\n",
    "sfreq = 250\n",
    "ch_names = [\"F3\", \"Fz\", \"F4\", \"C3\", \"Cz\", \"C4\", \"P3\", \"P4\"]\n",
    "info = mne.create_info(ch_names=ch_names, sfreq=sfreq, ch_types=ch_types)\n",
    "info.set_montage(\"standard_1020\")"
   ]
  },
  {
   "cell_type": "code",
   "execution_count": 98,
   "metadata": {},
   "outputs": [],
   "source": [
    "# Carregando os dados\n",
    "# gt = '../dataset-s7/GT/OpenBCI-RAW-2023-09-19_14-58-42_GT.txt'\n",
    "# gt_ob = np.loadtxt(gt, delimiter=',', skiprows=5, usecols=range(1, 9))\n",
    "\n",
    "ia = '../dataset-s7/IA/OpenBCI-RAW-2023-09-28_16-51-25_IA.txt'\n",
    "ia_ob = np.loadtxt(ia, delimiter=',', skiprows=5, usecols=range(1, 9))\n",
    "\n",
    "# tf = '../dataset-s7/TF/OpenBCI-RAW-2023-11-07_13-17-01_TF.txt'\n",
    "# tf_ob = np.loadtxt(tf, delimiter=',', skiprows=5, usecols=range(1, 9))"
   ]
  },
  {
   "cell_type": "code",
   "execution_count": 99,
   "metadata": {},
   "outputs": [
    {
     "name": "stdout",
     "output_type": "stream",
     "text": [
      "Creating RawArray with float64 data, n_channels=8, n_times=16500\n",
      "    Range : 0 ... 16499 =      0.000 ...    65.996 secs\n",
      "Ready.\n"
     ]
    }
   ],
   "source": [
    "# Aula GT\n",
    "# 2:14 - 2:32\n",
    "# 3:40 - 3:50\n",
    "# 9:34 - 10:10\n",
    "\n",
    "# Aula IA\n",
    "timerange1 = \"0:21 - 0:40\"\n",
    "timerange2 = \"1:54 - 2:08\" # (ou 2:18? interferência?)\n",
    "timerange3 = \"3:54 - 5:00\"\n",
    "timerange4 = \"6:48 - 7:02\"\n",
    "timerange5 = \"8:29 - 8:55\" # perfuntar se é interferência\n",
    "timerange6 = \"8:46 - 9:00\"\n",
    "timerange7 = \"9:14 - 9:40\"\n",
    "timerange8 = \"19:18 - 19:35\"\n",
    "\n",
    "index = []\n",
    "index = convert_time_range_to_index(timerange3)\n",
    "\n",
    "# Obtendo trecho de interesse\n",
    "# data_cut_gt = gt_ob[1250:221000, :]\n",
    "data_cut_ia = ia_ob[index[0]:index[1], :]\n",
    "# data_cut_tf = tf_ob[67000:186250, :]\n",
    "\n",
    "\n",
    "X = {\n",
    "    # 'gt': mne.io.RawArray(data_cut_gt.T, info),\n",
    "    'ia': mne.io.RawArray(data_cut_ia.T, info),\n",
    "    # 'tf': mne.io.RawArray(data_cut_tf.T, info),\n",
    "}"
   ]
  },
  {
   "cell_type": "code",
   "execution_count": 100,
   "metadata": {},
   "outputs": [
    {
     "name": "stdout",
     "output_type": "stream",
     "text": [
      "Filtering raw data in 1 contiguous segment\n",
      "Setting up band-stop filter from 59 - 61 Hz\n",
      "\n",
      "FIR filter parameters\n",
      "---------------------\n",
      "Designing a one-pass, zero-phase, non-causal bandstop filter:\n",
      "- Windowed time-domain design (firwin) method\n",
      "- Hamming window with 0.0194 passband ripple and 53 dB stopband attenuation\n",
      "- Lower passband edge: 59.35\n",
      "- Lower transition bandwidth: 0.50 Hz (-6 dB cutoff frequency: 59.10 Hz)\n",
      "- Upper passband edge: 60.65 Hz\n",
      "- Upper transition bandwidth: 0.50 Hz (-6 dB cutoff frequency: 60.90 Hz)\n",
      "- Filter length: 1651 samples (6.604 s)\n",
      "\n",
      "Filtering raw data in 1 contiguous segment\n",
      "Setting up band-pass filter from 4 - 1e+02 Hz\n",
      "\n",
      "FIR filter parameters\n",
      "---------------------\n",
      "Designing a one-pass, zero-phase, non-causal bandpass filter:\n",
      "- Windowed time-domain design (firwin) method\n",
      "- Hamming window with 0.0194 passband ripple and 53 dB stopband attenuation\n",
      "- Lower passband edge: 4.00\n",
      "- Lower transition bandwidth: 2.00 Hz (-6 dB cutoff frequency: 3.00 Hz)\n",
      "- Upper passband edge: 100.00 Hz\n",
      "- Upper transition bandwidth: 25.00 Hz (-6 dB cutoff frequency: 112.50 Hz)\n",
      "- Filter length: 413 samples (1.652 s)\n",
      "\n"
     ]
    }
   ],
   "source": [
    "for key in X:\n",
    "    X[key].notch_filter(freqs=60)\n",
    "    X[key].filter(l_freq=4, h_freq=100)"
   ]
  },
  {
   "cell_type": "code",
   "execution_count": 101,
   "metadata": {},
   "outputs": [
    {
     "name": "stdout",
     "output_type": "stream",
     "text": [
      "EEG channel type selected for re-referencing\n",
      "Applying average reference.\n",
      "Applying a custom ('EEG',) reference.\n"
     ]
    },
    {
     "name": "stdout",
     "output_type": "stream",
     "text": [
      "<RawArray | 8 x 16500 (66.0 s), ~1.0 MB, data loaded>\n",
      "{'ia': [63.33, 0.0, 0.0, 36.67]}\n"
     ]
    }
   ],
   "source": [
    "sr = 250            # Taxa de amostragem dos dados do EEG (250Hz)\n",
    "jump = 5            # Tamanho da janela de análise (5 em 5 segundos)\n",
    "size = sr * jump    # Número de pontos de dados em cada janela de análise\n",
    "\n",
    "# Definindo os limites das bandas de frequência (em Hz)\n",
    "theta_band = (4, 8)       # Theta: 4 - 8 Hz\n",
    "alpha_band = (8, 13)      # Alpha: 8 - 13 Hz\n",
    "beta_band = (13, 30)      # Beta: 13 - 30 Hz\n",
    "gamma_band = (30, 100)    # Gamma: 30 - 100 Hz\n",
    "\n",
    "\n",
    "total_pc = {}\n",
    "# data_names = ('gt', 'ia', 'tf')\n",
    "data_names = ('ia',)\n",
    "\n",
    "# X contém os cinco conjuntos de dados de EEG para análise\n",
    "for k, data in enumerate(X.values()):\n",
    "    results = [0, 0, 0, 0] # Contagem de dominância de cada banda\n",
    "\n",
    "    data.set_eeg_reference(ref_channels='average', projection=False)\n",
    "    \n",
    "    # Percorre os dados em incrementos de sr (1 segundo) extraindo janelas de tamanho size (5s)\n",
    "    for i in range(0, int(data.times[-1] - jump), 1):\n",
    "        tmin = i\n",
    "        tmax = i + jump\n",
    "\n",
    "        cut = data.copy().crop(tmin=tmin, tmax=tmax).get_data()\n",
    "\n",
    "        # Número de pontos por segmento\n",
    "        n_per_seg = 128\n",
    "        # Quantidade de sobreposição entre segmentos\n",
    "        n_overlap = n_per_seg // 2 # 64\n",
    "        \n",
    "        # Calculando a densidade espectral de potência (PSD)\n",
    "        freqs, psd = welch(cut, fs=sr, nperseg=n_per_seg, noverlap=n_overlap)\n",
    "        \n",
    "        # realizando a média dos 8 eletrodos\n",
    "        X = np.average(psd, axis=0)\n",
    "\n",
    "        # Encontrar os índices correspondentes às frequências de interesse\n",
    "        theta_idxs = np.where((freqs >= theta_band[0]) & (freqs <= theta_band[1]))[0]\n",
    "        alpha_idxs = np.where((freqs >= alpha_band[0]) & (freqs <= alpha_band[1]))[0]\n",
    "        beta_idxs = np.where((freqs >= beta_band[0]) & (freqs <= beta_band[1]))[0]\n",
    "        gamma_idxs = np.where((freqs >= gamma_band[0]) & (freqs <= gamma_band[1]))[0]\n",
    "\n",
    "        # Calculando a potência em cada banda de frequência por meio da integração da PSD\n",
    "        bands = [np.sum(X[theta_idxs]), np.sum(X[alpha_idxs]), np.sum(X[beta_idxs]), np.sum(X[gamma_idxs])]\n",
    "        # Calculando a pontuação de cada banda para mostrar a porcentagem futura\n",
    "        results[np.argmax(bands)] += 1\n",
    "\n",
    "    total = sum(results)\n",
    "    percentages = [round((count/total) * 100, 2) for count in results]\n",
    "    print(data.__str__())\n",
    "    total_pc[data_names[k]] = percentages\n",
    "\n",
    "print(total_pc)"
   ]
  },
  {
   "cell_type": "code",
   "execution_count": 102,
   "metadata": {},
   "outputs": [],
   "source": [
    "rcParams['figure.figsize'] = [6., 4.]\n",
    "\n",
    "def plot_bar(x):\n",
    "    colors = ('orange', 'green', 'blue', 'purple')\n",
    "    bars = plt.bar(('theta', 'alpha', 'beta', 'gamma'), x, color=colors)\n",
    "    for bar in bars:\n",
    "        yval = bar.get_height()\n",
    "        plt.text(bar.get_x() + bar.get_width()/2, yval, round(yval, 2), ha='center', va='bottom')\n",
    "    plt.title('Porcentagem da potência em cada banda de frequência')\n",
    "    plt.xlabel('Banda de Frequência')\n",
    "    plt.ylabel('Porcentagem durante a atividade')\n",
    "    plt.show()\n"
   ]
  },
  {
   "cell_type": "code",
   "execution_count": 103,
   "metadata": {},
   "outputs": [
    {
     "name": "stdout",
     "output_type": "stream",
     "text": [
      "Insulina Ativa\n"
     ]
    },
    {
     "data": {
      "image/png": "[encoded data removed]",
      "text/plain": [
       "<Figure size 600x400 with 1 Axes>"
      ]
     },
     "metadata": {},
     "output_type": "display_data"
    }
   ],
   "source": [
    "# print('Glucagon Tradicional')\n",
    "# plot_bar(total_pc['gt'])\n",
    "\n",
    "print('Insulina Ativa')\n",
    "plot_bar(total_pc['ia'])\n",
    "\n",
    "# print('Teste Final')\n",
    "# plot_bar(total_pc['tf'])"
   ]
  },
  {
   "cell_type": "code",
   "execution_count": 104,
   "metadata": {},
   "outputs": [],
   "source": [
    "def print_graphs(X):\n",
    "    for i in range(X.shape[1]):\n",
    "        plt.plot(X[:,i])\n",
    "    plt.title('Domínio do tempo')\n",
    "    plt.show()\n",
    "\n",
    "    for i in range(X.shape[1]):\n",
    "        # Fs = Frequency sample (taxa de amostragem): 250Hz\n",
    "        plt.psd(X[:,i], Fs=250)\n",
    "    plt.title('Domínio da frequência')\n",
    "    plt.show()\n",
    "\n",
    "    for i in range(X.shape[1]):\n",
    "        plt.specgram(X[i,:], Fs=250)\n",
    "    plt.title('Espectrograma')\n",
    "    plt.show()"
   ]
  },
  {
   "cell_type": "code",
   "execution_count": 105,
   "metadata": {},
   "outputs": [
    {
     "ename": "IndexError",
     "evalue": "only integers, slices (`:`), ellipsis (`...`), numpy.newaxis (`None`) and integer or boolean arrays are valid indices",
     "output_type": "error",
     "traceback": [
      "\u001b[0;31m---------------------------------------------------------------------------\u001b[0m",
      "\u001b[0;31mIndexError\u001b[0m                                Traceback (most recent call last)",
      "Cell \u001b[0;32mIn[105], line 4\u001b[0m\n\u001b[1;32m      1\u001b[0m rcParams[\u001b[38;5;124m'\u001b[39m\u001b[38;5;124mfigure.figsize\u001b[39m\u001b[38;5;124m'\u001b[39m] \u001b[38;5;241m=\u001b[39m [\u001b[38;5;241m17.\u001b[39m, \u001b[38;5;241m5.\u001b[39m]\n\u001b[1;32m      3\u001b[0m \u001b[38;5;28;01mfor\u001b[39;00m key \u001b[38;5;129;01min\u001b[39;00m X:\n\u001b[0;32m----> 4\u001b[0m     print_graphs(\u001b[43mX\u001b[49m\u001b[43m[\u001b[49m\u001b[43mkey\u001b[49m\u001b[43m]\u001b[49m)\n",
      "\u001b[0;31mIndexError\u001b[0m: only integers, slices (`:`), ellipsis (`...`), numpy.newaxis (`None`) and integer or boolean arrays are valid indices"
     ]
    }
   ],
   "source": [
    "rcParams['figure.figsize'] = [17., 5.]\n",
    "\n",
    "for key in X:\n",
    "    print_graphs(X[key])"
   ]
  }
 ],
 "metadata": {
  "kernelspec": {
   "display_name": "venv",
   "language": "python",
   "name": "python3"
  },
  "language_info": {
   "codemirror_mode": {
    "name": "ipython",
    "version": 3
   },
   "file_extension": ".py",
   "mimetype": "text/x-python",
   "name": "python",
   "nbconvert_exporter": "python",
   "pygments_lexer": "ipython3",
   "version": "3.10.12"
  }
 },
 "nbformat": 4,
 "nbformat_minor": 2
}
